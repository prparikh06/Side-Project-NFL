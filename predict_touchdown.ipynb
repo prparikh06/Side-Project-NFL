{
 "cells": [
  {
   "cell_type": "code",
   "execution_count": 30,
   "metadata": {},
   "outputs": [],
   "source": [
    "import pandas as pd\n",
    "import nltk \n",
    "import sys"
   ]
  },
  {
   "cell_type": "code",
   "execution_count": 74,
   "metadata": {},
   "outputs": [],
   "source": [
    "PATH = 'pbp_2019.xlsx'\n",
    "data = pd.read_excel(PATH,sheet_name='predict_touchdown2')"
   ]
  },
  {
   "cell_type": "code",
   "execution_count": 75,
   "metadata": {},
   "outputs": [
    {
     "name": "stdout",
     "output_type": "stream",
     "text": [
      "{'ARI': 0, 'ATL': 1, 'BAL': 2, 'BUF': 3, 'CAR': 4, 'CHI': 5, 'CIN': 6, 'CLE': 7, 'DAL': 8, 'DEN': 9, 'DET': 10, 'GB': 11, 'HOU': 12, 'IND': 13, 'JAX': 14, 'KC': 15, 'LA': 16, 'LAC': 17, 'MIA': 18, 'MIN': 19, 'NE': 20, 'NO': 21, 'NYG': 22, 'NYJ': 23, 'OAK': 24, 'PHI': 25, 'PIT': 26, 'SEA': 27, 'SF': 28, 'TB': 29, 'TEN': 30, 'WAS': 31}\n"
     ]
    }
   ],
   "source": [
    "# clean data if it NaN\n",
    "data = data.dropna()\n",
    "\n",
    "# make dictionary\n",
    "teams = data['OffenseTeam'].unique().tolist()\n",
    "teams.sort()\n",
    "nums = list(range(0,32))\n",
    "# print(teams)\n",
    "# print(nums)\n",
    "\n",
    "team_label = dict(zip(teams, nums))\n",
    "print(team_label)\n",
    "\n",
    "# plays = data['PlayType'].unique().tolist()\n",
    "# plays.sort()\n",
    "# nums = list(range(0,len(plays)))\n",
    "\n",
    "# play_label = dict(zip(plays, nums))\n",
    "# print(play_label)"
   ]
  },
  {
   "cell_type": "code",
   "execution_count": 76,
   "metadata": {},
   "outputs": [],
   "source": [
    "# replace teams and playtype with ints\n",
    "data1 = data.applymap(lambda x: team_label.get(x) if x in team_label else x)\n",
    "# data2 = data1.applymap(lambda x: play_label.get(x) if x in play_label else x)\n",
    "df = data1"
   ]
  },
  {
   "cell_type": "code",
   "execution_count": 133,
   "metadata": {},
   "outputs": [
    {
     "name": "stdout",
     "output_type": "stream",
     "text": [
      "       OffenseTeam  DefenseTeam  YardLine  Down  ToGo  IsTouchdown\n",
      "31629           16           26        29     2     1            0\n",
      "31630           16           26        28     3     2            0\n",
      "31631           16           26        29     4     1            0\n",
      "31632           26           16        62     1    17            0\n",
      "31633           16           26        12     1    10            0\n",
      "31634           16           26        34     1    10            0\n",
      "31635           16           26        39     2     5            0\n",
      "31636           16           26        35     0     0            0\n",
      "31637           26           16        25     1    10            0\n",
      "31639           26           16        28     2     7            0\n",
      "31640           26           16        28     3     7            0\n",
      "31641            8           19        35     0     0            0\n",
      "31642           19            8        25     1    10            0\n",
      "31643           19            8        28     2     7            0\n",
      "31644           19            8        28     3     7            0\n",
      "31645           19            8        33     3     2            0\n",
      "31646           19            8        38     1    10            0\n",
      "31647           19            8        43     2     5            0\n",
      "31648           19            8        45     1    15            0\n",
      "31649           19            8        53     3     7            0\n",
      "31650            8           19         6     1    10            0\n",
      "31651            8           19        26     1    10            0\n",
      "31652            8           19        36     1    10            0\n",
      "31653            8           19        36     2    10            0\n",
      "31654            8           19        49     1    10            0\n",
      "31656            2           12        35     0     0            0\n",
      "31657           12            2        25     1    10            0\n",
      "31658           15           30        35     0     0            0\n",
      "31659           30           15        26     1    10            0\n",
      "31660           30           15        32     2     4            1\n",
      "...            ...          ...       ...   ...   ...          ...\n",
      "31705           12            2        33     1    10            0\n",
      "31706           12            2        34     2     9            0\n",
      "31707           12            2        35     3     8            0\n",
      "31708           12            2        48     1    10            0\n",
      "31709            2           12        33     1    10            0\n",
      "31710            2           12        37     2     6            0\n",
      "31711            2           12        39     3     4            0\n",
      "31712           12            2        39     1    10            0\n",
      "31713           12            2        33     2    16            0\n",
      "31714           12            2        48     1    10            0\n",
      "31716            2           12        10     1    10            0\n",
      "31718            2           12        10     2    10            0\n",
      "31719            2           12        21     1    10            0\n",
      "31720            2           12        16     1    15            0\n",
      "31721            2           12        39     1    10            0\n",
      "31722            2           12        43     2     6            0\n",
      "31723            2           12        69     1    10            0\n",
      "31724            2           12        35     0     0            0\n",
      "31725           12            2        23     1    10            0\n",
      "31726           12            2        25     2     8            0\n",
      "31727           12            2        19     3    14            0\n",
      "31728           12            2        34     1    10            0\n",
      "31729           12            2        42     2     2            0\n",
      "31730           12            2        35     0     0            0\n",
      "31731            2           12        13     1    10            0\n",
      "31732            2           12        18     1     5            0\n",
      "31733            2           12        13     1    10            0\n",
      "31734            2           12        20     2     3            0\n",
      "31735            2           12        26     1    10            0\n",
      "31736            2           12        34     2     2            0\n",
      "\n",
      "[100 rows x 6 columns]\n"
     ]
    }
   ],
   "source": [
    "print(df.iloc[29900:30000])\n",
    "df.to_excel(\"dataframe_ints.xlsx\")"
   ]
  },
  {
   "cell_type": "code",
   "execution_count": 125,
   "metadata": {},
   "outputs": [
    {
     "name": "stdout",
     "output_type": "stream",
     "text": [
      "Int64Index([    0,     1,     2,     3,     4,     5,     6,     7,     8,\n",
      "                9,\n",
      "            ...\n",
      "            42145, 42149, 42152, 42154, 42159, 42163, 42177, 42181, 42184,\n",
      "            42185],\n",
      "           dtype='int64', length=39078)\n",
      "Int64Index([ 5976, 24029, 25098,  5948, 36139, 36026, 40484, 24096, 24653,\n",
      "            23657,\n",
      "            ...\n",
      "             4841, 10820, 14069,  4086,  1015, 38074, 11958, 13579, 13989,\n",
      "            29897],\n",
      "           dtype='int64', length=29308)\n",
      "Int64Index([   10,    11,    13,    19,    21,    23,    26,    28,    30,\n",
      "               41,\n",
      "            ...\n",
      "            42098, 42102, 42109, 42117, 42118, 42119, 42126, 42127, 42136,\n",
      "            42181],\n",
      "           dtype='int64', length=9770)\n"
     ]
    }
   ],
   "source": [
    "# https://stackoverflow.com/questions/44747343/keras-input-explanation-input-shape-units-batch-size-dim-etc\n",
    "# https://www.tensorflow.org/guide/keras/train_and_evaluate\n",
    "\n",
    "# use part of the dataset to create inputs and outputs\n",
    "import numpy as np\n",
    "\n",
    "print(df.index)\n",
    "df2 = df\n",
    "train_df = df2.sample(frac=0.75, random_state=0)\n",
    "test_df = df2.drop(train_df.index)\n",
    "\n",
    "print(train_df.index)\n",
    "print(test_df.index)"
   ]
  },
  {
   "cell_type": "code",
   "execution_count": 126,
   "metadata": {},
   "outputs": [],
   "source": [
    "x_train = train_df[['OffenseTeam','DefenseTeam','YardLine','Down','ToGo']].to_numpy()\n",
    "y_train = train_df['IsTouchdown']\n",
    "\n",
    "x_test = test_df[['OffenseTeam','DefenseTeam','YardLine','Down','ToGo']].to_numpy()\n",
    "y_test = test_df['IsTouchdown']\n",
    "\n",
    "# reshape inputs\n",
    "x_train = x_train.reshape(29308,5)\n",
    "x_test = x_test.reshape(9770,5)\n",
    "\n",
    "# reserve 5000 for validation\n",
    "x_val = x_train[-5000:]\n",
    "y_val = y_train[-5000:]\n",
    "x_train = x_train[:-5000]\n",
    "y_train = y_train[:-5000]"
   ]
  },
  {
   "cell_type": "code",
   "execution_count": 127,
   "metadata": {},
   "outputs": [],
   "source": [
    "# create keras model\n",
    "import tensorflow as tf\n",
    "from tensorflow import keras\n",
    "from tensorflow.keras import layers\n",
    "from tensorflow.keras.layers import Dense\n",
    "from tensorflow.keras.layers import Flatten\n",
    "from tensorflow.keras.layers import Input\n",
    "from tensorflow.keras.models import Model\n",
    "from keras.layers import concatenate\n",
    "\n",
    "# define input\n",
    "tensor = Input(shape=(5,)) # input shape is 3 integers (OT, DT, PT)\n",
    "\n",
    "# create the layers and pass them the input tensor to get the output tensor:    \n",
    "hidden1Out = Dense(units=5)(tensor)    \n",
    "hidden2Out = Dense(units=5)(hidden1Out)    \n",
    "finalOut = Dense(units=1)(hidden2Out) \n",
    "\n",
    "# define the model's start and end points    \n",
    "model = Model(tensor,finalOut)"
   ]
  },
  {
   "cell_type": "code",
   "execution_count": 128,
   "metadata": {},
   "outputs": [],
   "source": [
    "# compile\n",
    "model.compile(\n",
    "    optimizer='adam',  # Optimizer\n",
    "    # Loss function to minimize\n",
    "    loss='binary_crossentropy',\n",
    "    # List of metrics to monitor\n",
    "    metrics=['accuracy'],\n",
    ")\n"
   ]
  },
  {
   "cell_type": "code",
   "execution_count": 151,
   "metadata": {},
   "outputs": [
    {
     "name": "stdout",
     "output_type": "stream",
     "text": [
      "Epoch 1/10\n",
      "82/82 [==============================] - 0s 4ms/step - loss: 0.5210 - accuracy: 0.9662 - val_loss: 0.5183 - val_accuracy: 0.9664\n",
      "Epoch 2/10\n",
      "82/82 [==============================] - 0s 2ms/step - loss: 0.5210 - accuracy: 0.9662 - val_loss: 0.5183 - val_accuracy: 0.9664\n",
      "Epoch 3/10\n",
      "82/82 [==============================] - 0s 2ms/step - loss: 0.5210 - accuracy: 0.9662 - val_loss: 0.5183 - val_accuracy: 0.9664\n",
      "Epoch 4/10\n",
      "82/82 [==============================] - 0s 4ms/step - loss: 0.5210 - accuracy: 0.9662 - val_loss: 0.5183 - val_accuracy: 0.9664\n",
      "Epoch 5/10\n",
      "82/82 [==============================] - 0s 4ms/step - loss: 0.5210 - accuracy: 0.9662 - val_loss: 0.5183 - val_accuracy: 0.9664\n",
      "Epoch 6/10\n",
      "82/82 [==============================] - 0s 4ms/step - loss: 0.5210 - accuracy: 0.9662 - val_loss: 0.5183 - val_accuracy: 0.9664\n",
      "Epoch 7/10\n",
      "82/82 [==============================] - 0s 4ms/step - loss: 0.5210 - accuracy: 0.9662 - val_loss: 0.5183 - val_accuracy: 0.9664\n",
      "Epoch 8/10\n",
      "82/82 [==============================] - 0s 5ms/step - loss: 0.5210 - accuracy: 0.9662 - val_loss: 0.5183 - val_accuracy: 0.9664\n",
      "Epoch 9/10\n",
      "82/82 [==============================] - 0s 5ms/step - loss: 0.5210 - accuracy: 0.9662 - val_loss: 0.5183 - val_accuracy: 0.9664\n",
      "Epoch 10/10\n",
      "82/82 [==============================] - 0s 5ms/step - loss: 0.5210 - accuracy: 0.9662 - val_loss: 0.5183 - val_accuracy: 0.9664\n"
     ]
    }
   ],
   "source": [
    "# fit the trianing data\n",
    "history = model.fit(\n",
    "    x_train,\n",
    "    y_train,\n",
    "    batch_size=300,\n",
    "    epochs=10,\n",
    "    # We pass some validation for\n",
    "    # monitoring validation loss and metrics\n",
    "    # at the end of each epoch\n",
    "    validation_data=(x_val, y_val)\n",
    "\n",
    ")"
   ]
  },
  {
   "cell_type": "code",
   "execution_count": 152,
   "metadata": {},
   "outputs": [
    {
     "name": "stdout",
     "output_type": "stream",
     "text": [
      "77/77 [==============================] - 0s 2ms/step - loss: 0.5368 - accuracy: 0.9652\n",
      "INFO:tensorflow:Assets written to: model2\\assets\n"
     ]
    }
   ],
   "source": [
    "# evaluate moel on test data\n",
    "results = model.evaluate(x_test, y_test, batch_size=128)\n",
    "\n",
    "# save keras model\n",
    "model.save('model2')"
   ]
  },
  {
   "cell_type": "code",
   "execution_count": 153,
   "metadata": {},
   "outputs": [],
   "source": [
    "# note that the output of a neural network will never be binary\n",
    "\n",
    "# estimate a threshold for the prediction value\n",
    "def get_prediction(model,args):\n",
    "    test_array = np.asarray(args) \n",
    "    input_array = test_array[None,:]\n",
    "    prediction = model.predict(input_array)\n",
    "    print(prediction)\n",
    "#     if prediction < -41.5:\n",
    "#         print(\"touchdown!!!\")\n",
    "#     else:\n",
    "#         print(\"no score :(\")\n",
    "    return\n"
   ]
  },
  {
   "cell_type": "code",
   "execution_count": 155,
   "metadata": {},
   "outputs": [
    {
     "name": "stdout",
     "output_type": "stream",
     "text": [
      "following should be 0\n",
      "[[-79.6022]]\n",
      "[[-57.19689]]\n",
      "following should be 1\n",
      "[[-90.68815]]\n",
      "[[-100.29314]]\n",
      "[[-96.72873]]\n",
      "[[-66.58627]]\n",
      "[[-24.09831]]\n",
      "[[-15.577639]]\n",
      "[[-101.492966]]\n",
      "[[-84.95572]]\n"
     ]
    }
   ],
   "source": [
    "def main():\n",
    "    # testing predictions\n",
    "    import os\n",
    "    PATH = os.getcwd()\n",
    "    PATH=PATH+r'\\model2'\n",
    "    model = keras.models.load_model(PATH)\n",
    "    \n",
    "    print(\"following should be 0\")\n",
    "    args = (2,12,69,1,10)\n",
    "    get_prediction(model,args)\n",
    "    args = (19,8,53,3,7)\n",
    "    get_prediction(model,args)\n",
    "    \n",
    "    print(\"following should be 1\")\n",
    "    args = (0,27,79,2,7)\n",
    "    get_prediction(model,args)\n",
    "    \n",
    "    args = (27,0,97,1,3)\n",
    "    get_prediction(model,args)\n",
    "    \n",
    "    args = (30,21,93,3,2)\n",
    "    get_prediction(model,args)\n",
    "        \n",
    "    args = (16,29,54,1,20)\n",
    "    get_prediction(model,args)\n",
    "        \n",
    "    args = (9,17,17,4,13)\n",
    "    get_prediction(model,args)\n",
    "    \n",
    "    args = (0,22,4,4,20)\n",
    "    get_prediction(model,args)\n",
    "    \n",
    "    args = (18,3,97,2,1)\n",
    "    get_prediction(model,args)\n",
    "    \n",
    "    args = (12,21,79,4,1)\n",
    "    get_prediction(model,args)\n",
    "    \n",
    "if __name__ == '__main__':\n",
    "    main()\n",
    "    \n",
    "\n",
    "    # lets say our point is -60 ? give or take a lot of errors"
   ]
  },
  {
   "cell_type": "code",
   "execution_count": null,
   "metadata": {},
   "outputs": [],
   "source": []
  },
  {
   "cell_type": "code",
   "execution_count": null,
   "metadata": {},
   "outputs": [],
   "source": []
  }
 ],
 "metadata": {
  "kernelspec": {
   "display_name": "Python 3",
   "language": "python",
   "name": "python3"
  },
  "language_info": {
   "codemirror_mode": {
    "name": "ipython",
    "version": 3
   },
   "file_extension": ".py",
   "mimetype": "text/x-python",
   "name": "python",
   "nbconvert_exporter": "python",
   "pygments_lexer": "ipython3",
   "version": "3.7.3"
  }
 },
 "nbformat": 4,
 "nbformat_minor": 4
}
