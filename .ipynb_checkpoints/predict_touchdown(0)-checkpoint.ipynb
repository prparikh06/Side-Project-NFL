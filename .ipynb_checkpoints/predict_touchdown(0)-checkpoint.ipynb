{
 "cells": [
  {
   "cell_type": "code",
   "execution_count": 17,
   "metadata": {},
   "outputs": [],
   "source": [
    "import pandas as pd\n",
    "import nltk \n",
    "import sys"
   ]
  },
  {
   "cell_type": "code",
   "execution_count": 18,
   "metadata": {
    "scrolled": false
   },
   "outputs": [],
   "source": [
    "PATH = 'pbp_2019.xlsx'\n",
    "data = pd.read_excel(PATH,sheet_name='predict_touchdown')"
   ]
  },
  {
   "cell_type": "code",
   "execution_count": 19,
   "metadata": {},
   "outputs": [
    {
     "name": "stdout",
     "output_type": "stream",
     "text": [
      "{'ARI': 0, 'ATL': 1, 'BAL': 2, 'BUF': 3, 'CAR': 4, 'CHI': 5, 'CIN': 6, 'CLE': 7, 'DAL': 8, 'DEN': 9, 'DET': 10, 'GB': 11, 'HOU': 12, 'IND': 13, 'JAX': 14, 'KC': 15, 'LA': 16, 'LAC': 17, 'MIA': 18, 'MIN': 19, 'NE': 20, 'NO': 21, 'NYG': 22, 'NYJ': 23, 'OAK': 24, 'PHI': 25, 'PIT': 26, 'SEA': 27, 'SF': 28, 'TB': 29, 'TEN': 30, 'WAS': 31}\n",
      "{'CLOCK STOP': 0, 'EXCEPTION': 1, 'EXTRA POINT': 2, 'FIELD GOAL': 3, 'FUMBLES': 4, 'KICK OFF': 5, 'NO PLAY': 6, 'PASS': 7, 'PENALTY': 8, 'PUNT': 9, 'QB KNEEL': 10, 'RUSH': 11, 'SACK': 12, 'SCRAMBLE': 13, 'TWO-POINT CONVERSION': 14}\n"
     ]
    }
   ],
   "source": [
    "# clean data if it NaN\n",
    "data = data.dropna()\n",
    "# make dictionary\n",
    "teams = data['OffenseTeam'].unique().tolist()\n",
    "teams.sort()\n",
    "nums = list(range(0,32))\n",
    "# print(teams)\n",
    "# print(nums)\n",
    "\n",
    "team_label = dict(zip(teams, nums))\n",
    "print(team_label)\n",
    "\n",
    "plays = data['PlayType'].unique().tolist()\n",
    "plays.sort()\n",
    "nums = list(range(0,len(plays)))\n",
    "\n",
    "play_label = dict(zip(plays, nums))\n",
    "print(play_label)"
   ]
  },
  {
   "cell_type": "code",
   "execution_count": 20,
   "metadata": {},
   "outputs": [],
   "source": [
    "# replace teams and playtype with ints\n",
    "data1 = data.applymap(lambda x: team_label.get(x) if x in team_label else x)\n",
    "data2 = data1.applymap(lambda x: play_label.get(x) if x in play_label else x)\n",
    "df = data2"
   ]
  },
  {
   "cell_type": "code",
   "execution_count": 114,
   "metadata": {},
   "outputs": [
    {
     "name": "stdout",
     "output_type": "stream",
     "text": [
      "     OffenseTeam  DefenseTeam  PlayType  IsTouchdown\n",
      "61            30           21         7            1\n",
      "62            30           21         7            0\n",
      "63            30           21        11            0\n",
      "64            30           21        11            0\n",
      "65            30           21        11            0\n",
      "66            30           21        11            0\n",
      "67            30           21         9            0\n",
      "68            21           30         2            0\n",
      "69            21           30         7            1\n",
      "70            21           30         7            0\n",
      "71            21           30        11            0\n",
      "72            21           30        11            0\n",
      "73            30           21         2            0\n",
      "74            30           21         7            1\n",
      "75            30           21        11            0\n",
      "76            30           21         7            0\n",
      "77            11           19        10            0\n",
      "78            11           19        10            0\n",
      "79            11           19        10            0\n",
      "80             8           25         7            0\n",
      "81             8           25         7            0\n",
      "82             8           25         7            0\n",
      "83             8           25        12            0\n",
      "84            25            8         2            0\n",
      "85            25            8         5            0\n",
      "86            25            8        11            1\n",
      "87            25            8        11            0\n",
      "88            25            8        11            0\n",
      "89            25            8         7            0\n",
      "90            25            8        11            0\n",
      "91            15            5         2            0\n",
      "92            15            5         7            1\n",
      "93            15            5         7            0\n",
      "94            15            5        11            0\n",
      "95            15            5         7            0\n",
      "96            15            5         7            0\n",
      "97            15            5         9            0\n",
      "98            15            5         7            0\n",
      "99            15            5         7            0\n",
      "100            5           15         9            0\n"
     ]
    }
   ],
   "source": [
    "print(df.iloc[60:100])"
   ]
  },
  {
   "cell_type": "code",
   "execution_count": 75,
   "metadata": {},
   "outputs": [],
   "source": [
    "# https://stackoverflow.com/questions/44747343/keras-input-explanation-input-shape-units-batch-size-dim-etc\n",
    "# https://www.tensorflow.org/guide/keras/train_and_evaluate\n",
    "\n",
    "# use part of the dataset to create inputs and outputs\n",
    "import numpy as np\n",
    "\n",
    "df2 = df.iloc[:30000]\n",
    "x_train = df2[['OffenseTeam','DefenseTeam','PlayType']].to_numpy()\n",
    "\n",
    "df3 = df.iloc[30000:]\n",
    "x_test = df3[['OffenseTeam','DefenseTeam','PlayType']].to_numpy()\n",
    "y_test = df3['IsTouchdown']\n",
    "\n",
    "# reshape inputs\n",
    "x_train = x_train.reshape(30000,3)\n",
    "x_test = x_test.reshape(9047,3)\n",
    "\n",
    "# reserve 5000 for validation\n",
    "x_val = x_train[-5000:]\n",
    "y_val = y_train[-5000:]\n",
    "x_train = x_train[:-5000]\n",
    "y_train = y_train[:-5000]\n"
   ]
  },
  {
   "cell_type": "code",
   "execution_count": 76,
   "metadata": {},
   "outputs": [],
   "source": [
    "# create keras model\n",
    "import tensorflow as tf\n",
    "from tensorflow import keras\n",
    "from tensorflow.keras import layers\n",
    "from tensorflow.keras.layers import Dense\n",
    "from tensorflow.keras.layers import Flatten\n",
    "from tensorflow.keras.layers import Input\n",
    "from tensorflow.keras.models import Model\n",
    "from keras.layers import concatenate\n",
    "\n",
    "# define input\n",
    "tensor = Input(shape=(3 ,)) # input shape is 3 integers (OT, DT, PT)\n",
    "\n",
    "# create the layers and pass them the input tensor to get the output tensor:    \n",
    "hidden1Out = Dense(units=4)(tensor)    \n",
    "hidden2Out = Dense(units=4)(hidden1Out)    \n",
    "finalOut = Dense(units=1)(hidden2Out) \n",
    "\n",
    "# define the model's start and end points    \n",
    "model = Model(tensor,finalOut)"
   ]
  },
  {
   "cell_type": "code",
   "execution_count": 85,
   "metadata": {},
   "outputs": [],
   "source": [
    "# compile\n",
    "model.compile(\n",
    "    optimizer=keras.optimizers.RMSprop(),  # Optimizer\n",
    "    # Loss function to minimize\n",
    "    loss='binary_crossentropy',\n",
    "    # List of metrics to monitor\n",
    "    metrics=['accuracy'],\n",
    ")\n"
   ]
  },
  {
   "cell_type": "code",
   "execution_count": 86,
   "metadata": {},
   "outputs": [
    {
     "name": "stdout",
     "output_type": "stream",
     "text": [
      "Epoch 1/2\n",
      "391/391 [==============================] - 0s 941us/step - loss: 0.7324 - accuracy: 0.9525 - val_loss: 0.1542 - val_accuracy: 0.9900\n",
      "Epoch 2/2\n",
      "391/391 [==============================] - 0s 719us/step - loss: 0.7324 - accuracy: 0.9525 - val_loss: 0.1542 - val_accuracy: 0.9900\n"
     ]
    }
   ],
   "source": [
    "# fit the trianing data\n",
    "history = model.fit(\n",
    "    x_train,\n",
    "    y_train,\n",
    "    batch_size=64,\n",
    "    epochs=2,\n",
    "    # We pass some validation for\n",
    "    # monitoring validation loss and metrics\n",
    "    # at the end of each epoch\n",
    "    validation_data=(x_val, y_val)\n",
    "\n",
    ")"
   ]
  },
  {
   "cell_type": "code",
   "execution_count": 138,
   "metadata": {},
   "outputs": [
    {
     "name": "stdout",
     "output_type": "stream",
     "text": [
      "71/71 [==============================] - 0s 608us/step - loss: 0.1534 - accuracy: 0.9901\n",
      "INFO:tensorflow:Assets written to: model\\assets\n"
     ]
    }
   ],
   "source": [
    "# evaluate moel on test data\n",
    "results = model.evaluate(x_test, y_test, batch_size=128)\n",
    "\n",
    "# save keras model\n",
    "model.save('model')"
   ]
  },
  {
   "cell_type": "code",
   "execution_count": 141,
   "metadata": {},
   "outputs": [
    {
     "name": "stdout",
     "output_type": "stream",
     "text": [
      "[[-8.256]]\n",
      "no score :(\n"
     ]
    }
   ],
   "source": [
    "# note that the output of a neural network will never be binary\n",
    "\n",
    "# also note that the same order of OT,DT,PT can produce different outputs at different points in the game, so it is difficult to  maintain accuracy\n",
    "\n",
    "# estimate a threshold for the prediction value\n",
    "def get_prediction(model,OT,DT,PT):\n",
    "    test_array = [OT,DT,PT] \n",
    "    test_array = np.asarray(test_array)\n",
    "    input_array = test_array[None,:]\n",
    "    prediction = model.predict(input_array)\n",
    "    print(prediction)\n",
    "    if prediction < -20:\n",
    "        print(\"touchdown!!!\")\n",
    "    else:\n",
    "        print(\"no score :(\")\n",
    "    return\n",
    "\n",
    "def main():\n",
    "    # testing predictions\n",
    "    import os\n",
    "    PATH = os.getcwd()\n",
    "    PATH=PATH+r'\\model'\n",
    "    model = keras.models.load_model(PATH)\n",
    "    get_prediction(model,5,15,9)\n",
    "    \n",
    "if __name__ == '__main__':\n",
    "    main()"
   ]
  },
  {
   "cell_type": "code",
   "execution_count": null,
   "metadata": {},
   "outputs": [],
   "source": []
  }
 ],
 "metadata": {
  "kernelspec": {
   "display_name": "Python 3",
   "language": "python",
   "name": "python3"
  },
  "language_info": {
   "codemirror_mode": {
    "name": "ipython",
    "version": 3
   },
   "file_extension": ".py",
   "mimetype": "text/x-python",
   "name": "python",
   "nbconvert_exporter": "python",
   "pygments_lexer": "ipython3",
   "version": "3.7.3"
  }
 },
 "nbformat": 4,
 "nbformat_minor": 2
}
